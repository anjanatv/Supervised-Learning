{
 "cells": [
  {
   "cell_type": "markdown",
   "id": "cb69cd59-b832-4c13-ba2f-377b2fae44ff",
   "metadata": {
    "tags": []
   },
   "source": [
    "Use the breast cancer dataset available in the sklearn library.\n",
    "\n",
    "Key components to be fulfilled :\n",
    "\n",
    "1. Loading and Preprocessing (2 marks)\n",
    "Load the breast cancer dataset from sklearn.\n",
    "Preprocess the data to handle any missing values and perform necessary feature scaling.\n",
    "Explain the preprocessing steps you performed and justify why they are necessary for this dataset.\n",
    "2. Classification Algorithm Implementation (5 marks)\n",
    "Implement the following five classification algorithms:\n",
    "1. Logistic Regression\n",
    "2. Decision Tree Classifier\n",
    "3. Random Forest Classifier\n",
    "4. Support Vector Machine (SVM)\n",
    "5. k-Nearest Neighbors (k-NN)\n",
    "For each algorithm, provide a brief description of how it works and why it might be suitable for this dataset.\n",
    "3. Model Comparison (2 marks)\n",
    "Compare the performance of the five classification algorithms.\n",
    "Which algorithm performed the best and which one performed the worst?\n",
    "4. Timely Submission (1 mark)\n",
    "Submission Guidelines:\n",
    "Provide your code in a Jupyter Notebook format and submit the GitHub link here.\n",
    "Ensure your explanations and answers are clear and concise.\n",
    "Total Score: 10"
   ]
  },
  {
   "cell_type": "code",
   "execution_count": 19,
   "id": "81bee5ef-2fb6-430a-b6de-3a95182bb971",
   "metadata": {
    "tags": []
   },
   "outputs": [],
   "source": [
    "import pandas as pd\n",
    "import numpy as np"
   ]
  },
  {
   "cell_type": "code",
   "execution_count": 20,
   "id": "6e02fbab-87bf-45a7-9bed-2b9082d9ea0f",
   "metadata": {
    "tags": []
   },
   "outputs": [],
   "source": [
    "# Import libraries\n",
    "\n",
    "from sklearn.datasets import load_breast_cancer\n",
    "from sklearn.model_selection import train_test_split\n",
    "from sklearn.preprocessing import StandardScaler\n"
   ]
  },
  {
   "cell_type": "code",
   "execution_count": 21,
   "id": "f34dbbe3-cf55-4986-9604-26299d8bce23",
   "metadata": {
    "tags": []
   },
   "outputs": [],
   "source": [
    "# Loading and preprocessing\n",
    "\n",
    "data = load_breast_cancer()\n",
    "X= data['data']\n",
    "y= data ['target'] "
   ]
  },
  {
   "cell_type": "code",
   "execution_count": 22,
   "id": "248900cb-6d33-4e05-a765-fe8a14818af5",
   "metadata": {
    "tags": []
   },
   "outputs": [],
   "source": [
    "X_train, X_test, y_train, y_test = train_test_split(X, y, test_size=0.2, random_state=42)"
   ]
  },
  {
   "cell_type": "code",
   "execution_count": 23,
   "id": "11086e3c-3e84-4eb4-b1cc-a985e9a08702",
   "metadata": {
    "tags": []
   },
   "outputs": [
    {
     "name": "stdout",
     "output_type": "stream",
     "text": [
      "Shape of X_train_scaled: (455, 30)\n",
      "First 5 rows of scaled features:\n",
      "[[-1.44075296 -0.43531947 -1.36208497 -1.1391179   0.78057331  0.71892128\n",
      "   2.82313451 -0.11914956  1.09266219  2.45817261 -0.26380039 -0.01605246\n",
      "  -0.47041357 -0.47476088  0.83836493  3.25102691  8.43893667  3.39198733\n",
      "   2.62116574  2.06120787 -1.23286131 -0.47630949 -1.24792009 -0.97396758\n",
      "   0.72289445  1.18673232  4.67282796  0.9320124   2.09724217  1.88645014]\n",
      " [ 1.97409619  1.73302577  2.09167167  1.85197292  1.319843    3.42627493\n",
      "   2.01311199  2.66503199  2.1270036   1.55839569  0.80531919 -0.81268678\n",
      "   0.75195659  0.87716951 -0.89605315  1.18122247  0.18362761  0.60059598\n",
      "  -0.31771686  0.52963649  2.17331385  1.3112795   2.08161691  2.1374055\n",
      "   0.76192793  3.26560084  1.92862053  2.6989469   1.89116053  2.49783848]\n",
      " [-1.39998202 -1.24962228 -1.34520926 -1.10978518 -1.33264483 -0.30735463\n",
      "  -0.36555756 -0.69650228  1.93033305  0.95437877  0.02752055  1.96305996\n",
      "  -0.12095781 -0.35077918  0.57276579  0.7394992   0.32065553  0.58946222\n",
      "   2.61504052  0.71892779 -1.29528358 -1.04081128 -1.24522047 -0.99971493\n",
      "  -1.43869328 -0.54856427 -0.64491059 -0.97023893  0.59760192  0.0578942 ]\n",
      " [-0.98179678  1.41622208 -0.98258746 -0.86694414  0.05938999 -0.59678772\n",
      "  -0.82020317 -0.84511471  0.31326409  0.07404147 -0.53850473  0.53647286\n",
      "  -0.65795    -0.49659014  0.0654747  -0.82240418 -0.68556537 -0.89848456\n",
      "   0.12329928 -0.43154667 -0.8291973   1.59353039 -0.87357215 -0.74294685\n",
      "   0.79662437 -0.7293916  -0.77494969 -0.80948314  0.79892783 -0.1344968 ]\n",
      " [-1.11769991 -1.0102595  -1.12500192 -0.96594206  1.26951116 -0.43900185\n",
      "  -0.98334145 -0.93059974  3.39443604  0.95021314  0.40227808  0.4403815\n",
      "   0.21931447 -0.11553185  0.17191085 -0.78797021 -0.78350919 -0.58864808\n",
      "   2.60401511  0.76598123 -1.08512861 -1.3346163  -1.11713828 -0.89654919\n",
      "  -0.17487574 -0.99507862 -1.20914641 -1.35458167  1.03354385 -0.20573196]]\n"
     ]
    }
   ],
   "source": [
    "scaler = StandardScaler()\n",
    "X_train_scaled = scaler.fit_transform(X_train)\n",
    "X_test_scaled = scaler.transform(X_test)\n",
    "print(f\"Shape of X_train_scaled: {X_train_scaled.shape}\")\n",
    "print(f\"First 5 rows of scaled features:\\n{X_train_scaled[:5]}\")"
   ]
  },
  {
   "cell_type": "code",
   "execution_count": 26,
   "id": "62c1f60f-b2ce-4acc-bc39-b29896364f9f",
   "metadata": {
    "tags": []
   },
   "outputs": [
    {
     "name": "stdout",
     "output_type": "stream",
     "text": [
      "Logistic Regression Accuracy: 0.9736842105263158\n"
     ]
    }
   ],
   "source": [
    "# Logistics Regression\n",
    "\n",
    "from sklearn.linear_model import LogisticRegression \n",
    "from sklearn.metrics import accuracy_score\n",
    "\n",
    "lr = LogisticRegression()\n",
    "lr.fit(X_train_scaled, y_train)\n",
    "y_pred_lr = lr.predict(X_test_scaled)\n",
    "\n",
    "# Accuracy\n",
    "accuracy_lr = accuracy_score(y_test, y_pred_lr)\n",
    "print(f'Logistic Regression Accuracy: {accuracy_lr}')\n"
   ]
  },
  {
   "cell_type": "code",
   "execution_count": 27,
   "id": "01b2978e-2805-4ea4-9800-61f234058006",
   "metadata": {
    "tags": []
   },
   "outputs": [
    {
     "name": "stdout",
     "output_type": "stream",
     "text": [
      "Decision Tree Accuracy: 0.9298245614035088\n"
     ]
    }
   ],
   "source": [
    "from sklearn.tree import DecisionTreeClassifier\n",
    "\n",
    "# Decision Tree Classifier\n",
    "dt = DecisionTreeClassifier()\n",
    "dt.fit(X_train, y_train)\n",
    "y_pred_dt = dt.predict(X_test)\n",
    "\n",
    "# Accuracy\n",
    "accuracy_dt = accuracy_score(y_test, y_pred_dt)\n",
    "print(f'Decision Tree Accuracy: {accuracy_dt}')"
   ]
  },
  {
   "cell_type": "code",
   "execution_count": 28,
   "id": "c4b75238-e92f-4d72-a503-6e5d8772f674",
   "metadata": {
    "tags": []
   },
   "outputs": [
    {
     "name": "stdout",
     "output_type": "stream",
     "text": [
      "Random Forest Accuracy: 0.9649122807017544\n"
     ]
    }
   ],
   "source": [
    "from sklearn.ensemble import RandomForestClassifier\n",
    "\n",
    "# Random Forest Classifier\n",
    "rf = RandomForestClassifier()\n",
    "rf.fit(X_train, y_train)\n",
    "y_pred_rf = rf.predict(X_test)\n",
    "from sklearn.metrics import accuracy_score\n",
    "# Accuracy\n",
    "accuracy_rf = accuracy_score(y_test, y_pred_rf)\n",
    "print(f'Random Forest Accuracy: {accuracy_rf}')"
   ]
  },
  {
   "cell_type": "code",
   "execution_count": 29,
   "id": "6ebfaa5a-1008-4110-af19-567db4ced80a",
   "metadata": {
    "tags": []
   },
   "outputs": [
    {
     "name": "stdout",
     "output_type": "stream",
     "text": [
      "SVM Accuracy: 0.9824561403508771\n"
     ]
    }
   ],
   "source": [
    "from sklearn.svm import SVC\n",
    "\n",
    "# Support Vector Machine\n",
    "svm = SVC()\n",
    "svm.fit(X_train_scaled, y_train)\n",
    "y_pred_svm = svm.predict(X_test_scaled)\n",
    "\n",
    "# Accuracy\n",
    "accuracy_svm = accuracy_score(y_test, y_pred_svm)\n",
    "print(f'SVM Accuracy: {accuracy_svm}')"
   ]
  },
  {
   "cell_type": "code",
   "execution_count": 30,
   "id": "35a8f980-2296-44a0-ba87-443028153927",
   "metadata": {},
   "outputs": [
    {
     "name": "stdout",
     "output_type": "stream",
     "text": [
      "k-NN Accuracy: 0.9473684210526315\n"
     ]
    }
   ],
   "source": [
    "from sklearn.neighbors import KNeighborsClassifier\n",
    "\n",
    "# k-Nearest Neighbors\n",
    "knn = KNeighborsClassifier()\n",
    "knn.fit(X_train_scaled, y_train)\n",
    "y_pred_knn = knn.predict(X_test_scaled)\n",
    "\n",
    "# Accuracy\n",
    "accuracy_knn = accuracy_score(y_test, y_pred_knn)\n",
    "print(f'k-NN Accuracy: {accuracy_knn}')"
   ]
  },
  {
   "cell_type": "code",
   "execution_count": 34,
   "id": "db9bb992-d3b0-46d3-9b61-0a9ccc24a16d",
   "metadata": {
    "tags": []
   },
   "outputs": [],
   "source": [
    "# 1. Logistic Regression\n",
    "lr = LogisticRegression()\n",
    "lr.fit(X_train_scaled, y_train)\n",
    "y_pred_lr = lr.predict(X_test_scaled)\n",
    "accuracy_lr = accuracy_score(y_test, y_pred_lr)\n",
    "\n",
    "# 2. Decision Tree\n",
    "dt = DecisionTreeClassifier()\n",
    "dt.fit(X_train, y_train)\n",
    "y_pred_dt = dt.predict(X_test)\n",
    "accuracy_dt = accuracy_score(y_test, y_pred_dt)\n",
    "\n",
    "# 3. Random Forest\n",
    "rf = RandomForestClassifier()\n",
    "rf.fit(X_train, y_train)\n",
    "y_pred_rf = rf.predict(X_test)\n",
    "accuracy_rf = accuracy_score(y_test, y_pred_rf)\n",
    "\n",
    "# 4. Support Vector Machine\n",
    "svm = SVC()\n",
    "svm.fit(X_train_scaled, y_train)\n",
    "y_pred_svm = svm.predict(X_test_scaled)\n",
    "accuracy_svm = accuracy_score(y_test, y_pred_svm)\n",
    "\n",
    "# 5. k-Nearest Neighbors\n",
    "knn = KNeighborsClassifier()\n",
    "knn.fit(X_train_scaled, y_train)\n",
    "y_pred_knn = knn.predict(X_test_scaled)\n",
    "accuracy_knn = accuracy_score(y_test, y_pred_knn)\n",
    "\n",
    "# Model accuracies comparison\n",
    "models_accuracy = {\n",
    "    'Logistic Regression': accuracy_lr,\n",
    "    'Decision Tree': accuracy_dt,\n",
    "    'Random Forest': accuracy_rf,\n",
    "    'SVM': accuracy_svm,\n",
    "    'k-NN': accuracy_knn\n",
    "}"
   ]
  },
  {
   "cell_type": "code",
   "execution_count": 35,
   "id": "eaa320e0-710c-496f-9eda-f700de1fa16a",
   "metadata": {
    "tags": []
   },
   "outputs": [
    {
     "name": "stdout",
     "output_type": "stream",
     "text": [
      "Logistic Regression: 0.9736842105263158\n",
      "Decision Tree: 0.9385964912280702\n",
      "Random Forest: 0.9649122807017544\n",
      "SVM: 0.9824561403508771\n",
      "k-NN: 0.9473684210526315\n"
     ]
    }
   ],
   "source": [
    "for model, accuracy in models_accuracy.items():\n",
    "    print(f'{model}: {accuracy}')"
   ]
  },
  {
   "cell_type": "code",
   "execution_count": null,
   "id": "4c284a86-8643-401f-8d34-7e0bd711cd95",
   "metadata": {},
   "outputs": [],
   "source": []
  }
 ],
 "metadata": {
  "kernelspec": {
   "display_name": "Python 3 (ipykernel)",
   "language": "python",
   "name": "python3"
  },
  "language_info": {
   "codemirror_mode": {
    "name": "ipython",
    "version": 3
   },
   "file_extension": ".py",
   "mimetype": "text/x-python",
   "name": "python",
   "nbconvert_exporter": "python",
   "pygments_lexer": "ipython3",
   "version": "3.11.5"
  }
 },
 "nbformat": 4,
 "nbformat_minor": 5
}
